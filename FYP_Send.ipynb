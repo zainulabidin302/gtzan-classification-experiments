{
 "cells": [
  {
   "cell_type": "code",
   "execution_count": 2,
   "metadata": {},
   "outputs": [],
   "source": [
    "from keras.applications.vgg19 import VGG19\n",
    "from keras.applications.vgg16 import VGG16\n",
    "import keras\n",
    "from keras.layers import Input, Flatten, Dense\n",
    "from keras.models import Model\n",
    "import sys\n",
    "import os\n",
    "\n",
    "\n",
    "def escape():\n",
    "    sys.exit()\n"
   ]
  },
  {
   "cell_type": "code",
   "execution_count": 6,
   "metadata": {},
   "outputs": [
    {
     "name": "stdout",
     "output_type": "stream",
     "text": [
      "[240  32 250 ...  70  61  94]\n",
      "(88038, 2)\n",
      "(2,)\n",
      "BEFORE --> (88038, 2)\n",
      "[0 6 0 ... 4 3 1]\n",
      "(66028,)\n"
     ]
    }
   ],
   "source": [
    "import numpy as np \n",
    "import keras\n",
    "from keras.datasets import mnist\n",
    "from keras.models import Sequential\n",
    "from keras.layers import Dense, Dropout, Flatten\n",
    "from keras.layers import Conv2D, MaxPooling2D\n",
    "from keras import backend as K\n",
    "import sys\n",
    "\n",
    "def E():\n",
    "  sys.exit()\n",
    "\n",
    "def Normalization(data):\n",
    "    norm = data / np.linalg.norm(data)\n",
    "    return norm\n",
    "\n",
    "# np.random.seed(32)\n",
    "\n",
    "\n",
    "def categoreis(labels):\n",
    "\ta = {}\n",
    "\tcounter = 0\n",
    "\tfor label in labels:\n",
    "\t\ta[label] = counter\n",
    "\t\tcounter += 1\n",
    "\treturn a\n",
    "\n",
    "dataset = np.load('gtzan-classification-experiments/database-50x3-88038.npz.npy')\n",
    "dataset = dataset[:]\n",
    "\n",
    "labels = dataset[:, 1]\n",
    "\n",
    "\n",
    "cat_map = categoreis(list(set(labels)))\n",
    "\n",
    "\n",
    "# print(\"Before\",dataset)\n",
    "\n",
    "#dataset = np.array([ [ item[0][:, :20], cat_map[item[1]]] for item in dataset ])\n",
    "dataset = np.array([ [ item[0], cat_map[item[1]]] for item in dataset ])\n",
    "\n",
    "print(dataset[0][0])\n",
    "\n",
    "print(np.shape(dataset))\n",
    "print(np.shape(dataset[0]))\n",
    "\n",
    "\n",
    "img_row = 50\n",
    "img_col = 50\n",
    "channels = 3\n",
    "\n",
    "\n",
    "\n",
    "\n",
    "np.random.shuffle(dataset)\n",
    "\n",
    "N = np.shape(dataset)[0]\n",
    "train_test_split_percentage = 0.75 \n",
    "\n",
    "print('BEFORE -->', np.shape(dataset))\n",
    "X_train = dataset[:int(N * train_test_split_percentage), 0]\n",
    "X_test = dataset[int(N * train_test_split_percentage):, 0]\n",
    "\n",
    "# print(X_train)\n",
    "\n",
    "\n",
    "X_train = np.array([x.reshape(img_row, img_col, channels) for x in X_train])\n",
    "X_test = np.array([x.reshape(img_row, img_col, channels) for x in X_test])\n",
    "\n",
    "# X_train = Normalization(X_train)\n",
    "# X_test = Normalization(X_test)\n",
    "\n",
    "# print(np.shape(X_train))\n",
    "# print(X_train.reshape(np.shape(X_train)[0], 810, 810, 1))\n",
    "# E()\n",
    "# X_train = np.array(list(map(lambda x: np.array(x), X_train)))\n",
    "# X_test = np.array(list(map(lambda x: np.array(x), X_test)))\n",
    "\n",
    "\n",
    "\n",
    "y_train = dataset[:int(N * train_test_split_percentage), 1]\n",
    "y_test = dataset[int(N * train_test_split_percentage):, 1]\n",
    "\n",
    "\n",
    "print(y_train)\n",
    "print(y_train.shape)\n",
    "\n",
    "\n",
    "y_train = keras.utils.to_categorical(y_train, num_classes=10)\n",
    "y_test  = keras.utils.to_categorical(y_test, num_classes=10)\n",
    "# y_train = keras.utils.to_categorical(y_train, num_classes=10)\n",
    "# y_test  = keras.utils.to_categorical(y_test, num_classes=10)\n"
   ]
  },
  {
   "cell_type": "code",
   "execution_count": 8,
   "metadata": {},
   "outputs": [],
   "source": [
    "model_vgg19_conv = VGG19(weights='imagenet', include_top=False, input_shape=(img_row, img_col, 3))"
   ]
  },
  {
   "cell_type": "code",
   "execution_count": 9,
   "metadata": {},
   "outputs": [
    {
     "name": "stdout",
     "output_type": "stream",
     "text": [
      "input_2\n",
      "block1_conv1\n",
      "block1_conv2\n",
      "block1_pool\n",
      "block2_conv1\n",
      "block2_conv2\n",
      "block2_pool\n",
      "block3_conv1\n",
      "block3_conv2\n",
      "block3_conv3\n",
      "block3_conv4\n",
      "block3_pool\n",
      "block4_conv1\n",
      "block4_conv2\n",
      "block4_conv3\n",
      "block4_conv4\n",
      "block4_pool\n",
      "block5_conv1\n",
      "block5_conv2\n",
      "block5_conv3\n",
      "block5_conv4\n",
      "block5_pool\n"
     ]
    }
   ],
   "source": [
    "for layer in model_vgg19_conv.layers:\n",
    "    layer.trainable = False\n",
    "    print(layer.name)"
   ]
  },
  {
   "cell_type": "code",
   "execution_count": 13,
   "metadata": {},
   "outputs": [
    {
     "name": "stdout",
     "output_type": "stream",
     "text": [
      "_________________________________________________________________\n",
      "Layer (type)                 Output Shape              Param #   \n",
      "=================================================================\n",
      "input_2 (InputLayer)         (None, 50, 50, 3)         0         \n",
      "_________________________________________________________________\n",
      "block1_conv1 (Conv2D)        (None, 50, 50, 64)        1792      \n",
      "_________________________________________________________________\n",
      "block1_conv2 (Conv2D)        (None, 50, 50, 64)        36928     \n",
      "_________________________________________________________________\n",
      "block1_pool (MaxPooling2D)   (None, 25, 25, 64)        0         \n",
      "_________________________________________________________________\n",
      "block2_conv1 (Conv2D)        (None, 25, 25, 128)       73856     \n",
      "_________________________________________________________________\n",
      "block2_conv2 (Conv2D)        (None, 25, 25, 128)       147584    \n",
      "_________________________________________________________________\n",
      "block2_pool (MaxPooling2D)   (None, 12, 12, 128)       0         \n",
      "_________________________________________________________________\n",
      "block3_conv1 (Conv2D)        (None, 12, 12, 256)       295168    \n",
      "_________________________________________________________________\n",
      "block3_conv2 (Conv2D)        (None, 12, 12, 256)       590080    \n",
      "_________________________________________________________________\n",
      "block3_conv3 (Conv2D)        (None, 12, 12, 256)       590080    \n",
      "_________________________________________________________________\n",
      "block3_conv4 (Conv2D)        (None, 12, 12, 256)       590080    \n",
      "_________________________________________________________________\n",
      "block3_pool (MaxPooling2D)   (None, 6, 6, 256)         0         \n",
      "_________________________________________________________________\n",
      "block4_conv1 (Conv2D)        (None, 6, 6, 512)         1180160   \n",
      "_________________________________________________________________\n",
      "block4_conv2 (Conv2D)        (None, 6, 6, 512)         2359808   \n",
      "_________________________________________________________________\n",
      "block4_conv3 (Conv2D)        (None, 6, 6, 512)         2359808   \n",
      "_________________________________________________________________\n",
      "block4_conv4 (Conv2D)        (None, 6, 6, 512)         2359808   \n",
      "_________________________________________________________________\n",
      "block4_pool (MaxPooling2D)   (None, 3, 3, 512)         0         \n",
      "_________________________________________________________________\n",
      "block5_conv1 (Conv2D)        (None, 3, 3, 512)         2359808   \n",
      "_________________________________________________________________\n",
      "block5_conv2 (Conv2D)        (None, 3, 3, 512)         2359808   \n",
      "_________________________________________________________________\n",
      "block5_conv3 (Conv2D)        (None, 3, 3, 512)         2359808   \n",
      "_________________________________________________________________\n",
      "block5_conv4 (Conv2D)        (None, 3, 3, 512)         2359808   \n",
      "_________________________________________________________________\n",
      "block5_pool (MaxPooling2D)   (None, 1, 1, 512)         0         \n",
      "_________________________________________________________________\n",
      "flatten_2 (Flatten)          (None, 512)               0         \n",
      "_________________________________________________________________\n",
      "dense_2 (Dense)              (None, 128)               65664     \n",
      "_________________________________________________________________\n",
      "predictions (Dense)          (None, 10)                1290      \n",
      "=================================================================\n",
      "Total params: 20,091,338\n",
      "Trainable params: 66,954\n",
      "Non-trainable params: 20,024,384\n",
      "_________________________________________________________________\n"
     ]
    },
    {
     "name": "stderr",
     "output_type": "stream",
     "text": [
      "C:\\Users\\zain3\\AppData\\Local\\Programs\\Python\\Python36\\lib\\site-packages\\ipykernel_launcher.py:6: UserWarning: Update your `Model` call to the Keras 2 API: `Model(inputs=Tensor(\"in..., outputs=Tensor(\"pr...)`\n",
      "  \n"
     ]
    }
   ],
   "source": [
    "x = model_vgg19_conv.output\n",
    "x = Flatten()(x)\n",
    "x = Dense(128, activation='relu')(x)\n",
    "x = Dense(10, activation='sigmoid', name='predictions')(x)\n",
    "\n",
    "my_model = Model(input=model_vgg19_conv.input, output=x)\n",
    "my_model.summary()"
   ]
  },
  {
   "cell_type": "code",
   "execution_count": 14,
   "metadata": {
    "collapsed": true
   },
   "outputs": [],
   "source": [
    "my_model.compile(loss=keras.losses.binary_crossentropy,\n",
    "              optimizer=keras.optimizers.RMSprop(),\n",
    "              metrics=['accuracy'])\n",
    "\n",
    "batch_size = 32\n",
    "epochs = 10"
   ]
  },
  {
   "cell_type": "code",
   "execution_count": null,
   "metadata": {},
   "outputs": [
    {
     "name": "stdout",
     "output_type": "stream",
     "text": [
      "Train on 52822 samples, validate on 13206 samples\n",
      "Epoch 1/10\n",
      "52822/52822 [==============================] - 2008s 38ms/step - loss: 0.4510 - acc: 0.8868 - val_loss: 0.3337 - val_acc: 0.9008\n",
      "Epoch 2/10\n",
      "52822/52822 [==============================] - 1980s 37ms/step - loss: 0.3285 - acc: 0.9008 - val_loss: 0.3235 - val_acc: 0.9009\n",
      "Epoch 3/10\n",
      "52822/52822 [==============================] - 2055s 39ms/step - loss: 0.3245 - acc: 0.9009 - val_loss: 0.3257 - val_acc: 0.9007\n",
      "Epoch 4/10\n",
      "52822/52822 [==============================] - 2065s 39ms/step - loss: 0.3242 - acc: 0.9008 - val_loss: 0.3248 - val_acc: 0.9009\n",
      "Epoch 5/10\n",
      "52822/52822 [==============================] - 2049s 39ms/step - loss: 0.3243 - acc: 0.9009 - val_loss: 0.3240 - val_acc: 0.9009\n",
      "Epoch 6/10\n",
      "52822/52822 [==============================] - 2017s 38ms/step - loss: 0.3242 - acc: 0.9009 - val_loss: 0.3248 - val_acc: 0.9009\n",
      "Epoch 7/10\n",
      "52822/52822 [==============================] - 2059s 39ms/step - loss: 0.3240 - acc: 0.9009 - val_loss: 0.3231 - val_acc: 0.9009\n",
      "Epoch 8/10\n",
      "52800/52822 [============================>.] - ETA: 0s - loss: 0.3237 - acc: 0.9010"
     ]
    }
   ],
   "source": [
    "my_model.fit(X_train, y_train,\n",
    "          batch_size=batch_size,\n",
    "          epochs=epochs,\n",
    "          verbose=1,\n",
    "          validation_split=0.2)\n",
    "score = my_model.evaluate(X_test, y_test, verbose=0)"
   ]
  },
  {
   "cell_type": "code",
   "execution_count": 11,
   "metadata": {},
   "outputs": [
    {
     "name": "stdout",
     "output_type": "stream",
     "text": [
      "Test loss: 0.0424639387367\n",
      "Test accuracy: 0.990722425124\n"
     ]
    }
   ],
   "source": [
    "print('Test loss:', score[0])\n",
    "print('Test accuracy:', score[1])"
   ]
  },
  {
   "cell_type": "code",
   "execution_count": 18,
   "metadata": {
    "scrolled": true
   },
   "outputs": [
    {
     "name": "stdout",
     "output_type": "stream",
     "text": [
      "             precision    recall  f1-score   support\n",
      "\n",
      "     normal       1.00      0.99      1.00    191235\n",
      "    anomaly       0.85      0.98      0.91      9464\n",
      "\n",
      "avg / total       0.99      0.99      0.99    200699\n",
      "\n"
     ]
    }
   ],
   "source": [
    "import sklearn.metrics\n",
    "target_names = ['normal','anomaly']\n",
    "print(sklearn.metrics.classification_report(y_test,rounded,labels = [0,1], target_names=target_names))"
   ]
  },
  {
   "cell_type": "code",
   "execution_count": 19,
   "metadata": {
    "collapsed": true
   },
   "outputs": [],
   "source": [
    "my_model.save(\"FinalRevisedModel.hd5\")"
   ]
  }
 ],
 "metadata": {
  "kernelspec": {
   "display_name": "Python 3",
   "language": "python",
   "name": "python3"
  },
  "language_info": {
   "codemirror_mode": {
    "name": "ipython",
    "version": 3
   },
   "file_extension": ".py",
   "mimetype": "text/x-python",
   "name": "python",
   "nbconvert_exporter": "python",
   "pygments_lexer": "ipython3",
   "version": "3.6.2"
  }
 },
 "nbformat": 4,
 "nbformat_minor": 2
}
